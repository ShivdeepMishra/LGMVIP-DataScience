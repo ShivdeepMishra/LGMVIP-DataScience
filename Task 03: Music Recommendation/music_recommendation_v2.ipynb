{
  "nbformat": 4,
  "nbformat_minor": 0,
  "metadata": {
    "accelerator": "GPU",
    "colab": {
      "name": "music-recommendation-v2.ipynb",
      "provenance": []
    },
    "kernelspec": {
      "display_name": "Python 3",
      "language": "python",
      "name": "python3"
    },
    "language_info": {
      "codemirror_mode": {
        "name": "ipython",
        "version": 3
      },
      "file_extension": ".py",
      "mimetype": "text/x-python",
      "name": "python",
      "nbconvert_exporter": "python",
      "pygments_lexer": "ipython3",
      "version": "3.7.10"
    }
  },
  "cells": [
    {
      "cell_type": "code",
      "metadata": {
        "id": "eCn0dSGBzFRq",
        "outputId": "4b0ad475-63a8-4ef0-f506-02ca704ec90a"
      },
      "source": [
        "# import os\n",
        "# for dirname, _, filenames in os.walk('/kaggle/input'):\n",
        "#     for filename in filenames:\n",
        "#         print(os.path.join(dirname, filename))"
      ],
      "execution_count": null,
      "outputs": [
        {
          "name": "stdout",
          "output_type": "stream",
          "text": [
            "/kaggle/input/kkbox-music-recommendation-challenge/test.csv.7z\n",
            "/kaggle/input/kkbox-music-recommendation-challenge/train.csv.7z\n",
            "/kaggle/input/kkbox-music-recommendation-challenge/songs.csv.7z\n",
            "/kaggle/input/kkbox-music-recommendation-challenge/members.csv.7z\n",
            "/kaggle/input/kkbox-music-recommendation-challenge/song_extra_info.csv.7z\n",
            "/kaggle/input/kkbox-music-recommendation-challenge/sample_submission.csv.7z\n"
          ]
        }
      ]
    },
    {
      "cell_type": "code",
      "metadata": {
        "colab": {
          "base_uri": "https://localhost:8080/"
        },
        "id": "SMEMMqjFzOHU",
        "outputId": "8657b831-8035-426e-cc54-6118b2b8bc6a"
      },
      "source": [
        "from google.colab import drive\n",
        "drive.mount('/gdrive')"
      ],
      "execution_count": 1,
      "outputs": [
        {
          "output_type": "stream",
          "text": [
            "Mounted at /gdrive\n"
          ],
          "name": "stdout"
        }
      ]
    },
    {
      "cell_type": "markdown",
      "metadata": {
        "id": "Ct8-Pc19zFRy"
      },
      "source": [
        "# Light GBM on KKBox's Music Recommendation System\n",
        "\n",
        "In this notebook, we will fit a light GBM model to the data, calcculate the accuracies on different data splits, run a grid search to extract the best model and build evaluation metrics to validate how well our model fits the data."
      ]
    },
    {
      "cell_type": "code",
      "metadata": {
        "id": "QHEsK2YWzFR0"
      },
      "source": [
        "# os.system('apt-get install p7zip')"
      ],
      "execution_count": null,
      "outputs": []
    },
    {
      "cell_type": "code",
      "metadata": {
        "colab": {
          "base_uri": "https://localhost:8080/"
        },
        "id": "Wg8iePAMzFR2",
        "outputId": "d61458a6-fbcd-44b5-99b3-17f995cc89ff"
      },
      "source": [
        "# !pip install pyunpack\n",
        "# !pip install patool"
      ],
      "execution_count": null,
      "outputs": [
        {
          "name": "stdout",
          "output_type": "stream",
          "text": [
            "Collecting pyunpack\n",
            "  Downloading pyunpack-0.2.2-py2.py3-none-any.whl (3.8 kB)\n",
            "Collecting easyprocess\n",
            "  Downloading EasyProcess-0.3-py2.py3-none-any.whl (7.9 kB)\n",
            "Collecting entrypoint2\n",
            "  Downloading entrypoint2-0.2.4-py3-none-any.whl (6.2 kB)\n",
            "Installing collected packages: entrypoint2, easyprocess, pyunpack\n",
            "Successfully installed easyprocess-0.3 entrypoint2-0.2.4 pyunpack-0.2.2\n",
            "Collecting patool\n",
            "  Downloading patool-1.12-py2.py3-none-any.whl (77 kB)\n",
            "\u001b[K     |████████████████████████████████| 77 kB 2.9 MB/s \n",
            "\u001b[?25hInstalling collected packages: patool\n",
            "Successfully installed patool-1.12\n"
          ]
        }
      ]
    },
    {
      "cell_type": "code",
      "metadata": {
        "id": "glke7SNAzFR5"
      },
      "source": [
        "# from pyunpack.cli import Archive\n",
        "\n",
        "# directory = '/gdrive/My Drive/LetsGrowMore/Music Recommendation/'\n",
        "\n",
        "# Archive('/gdrive/My Drive/LetsGrowMore/Music Recommendation/train.csv.7z').extractall(directory)\n",
        "# Archive('/gdrive/My Drive/LetsGrowMore/Music Recommendation/test.csv.7z').extractall(directory)\n",
        "# Archive('/gdrive/My Drive/LetsGrowMore/Music Recommendation/songs.csv.7z').extractall(directory)\n",
        "# Archive('/gdrive/My Drive/LetsGrowMore/Music Recommendation/song_extra_info.csv.7z').extractall(directory)\n",
        "# Archive('/gdrive/My Drive/LetsGrowMore/Music Recommendation/members.csv.7z').extractall(directory)"
      ],
      "execution_count": null,
      "outputs": []
    },
    {
      "cell_type": "code",
      "metadata": {
        "id": "g51UPilszFR7"
      },
      "source": [
        "# Importing libraries\n",
        "import numpy as np\n",
        "import pandas as pd\n",
        "import lightgbm as lgb\n",
        "import datetime\n",
        "import math\n",
        "import gc\n",
        "from sklearn.pipeline import Pipeline\n",
        "from sklearn.model_selection import GridSearchCV\n",
        "from sklearn.metrics import accuracy_score\n",
        "import random\n",
        "import matplotlib.pyplot as plt\n",
        "import graphviz\n",
        "import warnings\n",
        "warnings.filterwarnings('ignore')"
      ],
      "execution_count": 2,
      "outputs": []
    },
    {
      "cell_type": "markdown",
      "metadata": {
        "id": "_dSI3yaNzFR-"
      },
      "source": [
        "# 1. Loading Data\n",
        "\n",
        "While loading the data, we will convert the categorical variables to type: object to be able to change it to Categorical varibale in the future."
      ]
    },
    {
      "cell_type": "code",
      "metadata": {
        "colab": {
          "base_uri": "https://localhost:8080/"
        },
        "id": "aiY9ZyJyzFSA",
        "outputId": "be010dd0-6171-4bfb-b4c9-85ea90fafc15"
      },
      "source": [
        "print('Loading data...')\n",
        "\n",
        "train = pd.read_csv('/gdrive/My Drive/LetsGrowMore/Music Recommendation/train.csv', dtype={'msno': 'object',\n",
        "                                                                                             'source_system_tab': 'object',\n",
        "                                                                                             'source_screen_name': 'object',\n",
        "                                                                                             'source_type': 'object',\n",
        "                                                                                             'target': np.uint8,\n",
        "                                                                                             'song_id': 'object'})\n",
        "\n",
        "test = pd.read_csv('/gdrive/My Drive/LetsGrowMore/Music Recommendation/test.csv', dtype={'msno': 'object',\n",
        "                                                                                           'source_system_tab': 'object',\n",
        "                                                                                           'source_screen_name': 'object',\n",
        "                                                                                           'source_type': 'object',\n",
        "                                                                                           'song_id': 'object'})\n",
        "\n",
        "songs = pd.read_csv('/gdrive/My Drive/LetsGrowMore/Music Recommendation/songs.csv', dtype={'genre_ids': 'object',\n",
        "                                                                                             'language': 'object',\n",
        "                                                                                             'artist_name': 'object',\n",
        "                                                                                             'composer': 'object',\n",
        "                                                                                             'lyricist': 'object',\n",
        "                                                                                             'song_id': 'object'})\n",
        "\n",
        "members = pd.read_csv('/gdrive/My Drive/LetsGrowMore/Music Recommendation/members.csv', dtype={'city': 'object',\n",
        "                                                                                                 'bd': np.uint8,\n",
        "                                                                                                 'gender': 'object',\n",
        "                                                                                                 'registered_via': 'object'},\n",
        "                     parse_dates=['registration_init_time', 'expiration_date'])\n",
        "\n",
        "songs_extra = pd.read_csv('/gdrive/My Drive/LetsGrowMore/Music Recommendation/song_extra_info.csv')\n",
        "\n",
        "print('Done Loading...')"
      ],
      "execution_count": null,
      "outputs": [
        {
          "name": "stdout",
          "output_type": "stream",
          "text": [
            "Loading data...\n",
            "Done Loading...\n"
          ]
        }
      ]
    },
    {
      "cell_type": "markdown",
      "metadata": {
        "id": "SXJJHA6VzFSD"
      },
      "source": [
        "# 2. Data Processing for LightGBM\n",
        "In this section, we will clean and transform the data and make it ready for feature extraction."
      ]
    },
    {
      "cell_type": "markdown",
      "metadata": {
        "id": "8Vfx6myAzFSD"
      },
      "source": [
        "### 2.1 Convert object type to category type"
      ]
    },
    {
      "cell_type": "code",
      "metadata": {
        "id": "v8B6NAWIzFSF"
      },
      "source": [
        "def object2cat(df):\n",
        "    object_cols = list(df.select_dtypes(include=['object']).columns)\n",
        "    \n",
        "    for col in object_cols:\n",
        "        df[col] = df[col].astype('category')\n",
        "        \n",
        "object2cat(train)\n",
        "object2cat(test)\n",
        "object2cat(songs)\n",
        "object2cat(members)"
      ],
      "execution_count": null,
      "outputs": []
    },
    {
      "cell_type": "code",
      "metadata": {
        "id": "jH0hQaMRzFSG"
      },
      "source": [
        "# test case for object2cat\n",
        "assert train['msno'].dtype == 'category'\n",
        "assert test['source_system_tab'].dtype == 'category'\n",
        "assert songs['language'].dtype == 'category'\n",
        "assert members['city'].dtype == 'category'"
      ],
      "execution_count": null,
      "outputs": []
    },
    {
      "cell_type": "markdown",
      "metadata": {
        "id": "dKvs7BrJzFSH"
      },
      "source": [
        "The test cases in the above grid will make sure that we are getting the right column types."
      ]
    },
    {
      "cell_type": "code",
      "metadata": {
        "colab": {
          "base_uri": "https://localhost:8080/",
          "height": 202
        },
        "id": "pcW1xGv1zFSI",
        "outputId": "22573d6d-b185-405d-ff73-aef5f397277c"
      },
      "source": [
        "songs_extra.head()"
      ],
      "execution_count": null,
      "outputs": [
        {
          "data": {
            "text/html": [
              "<div>\n",
              "<style scoped>\n",
              "    .dataframe tbody tr th:only-of-type {\n",
              "        vertical-align: middle;\n",
              "    }\n",
              "\n",
              "    .dataframe tbody tr th {\n",
              "        vertical-align: top;\n",
              "    }\n",
              "\n",
              "    .dataframe thead th {\n",
              "        text-align: right;\n",
              "    }\n",
              "</style>\n",
              "<table border=\"1\" class=\"dataframe\">\n",
              "  <thead>\n",
              "    <tr style=\"text-align: right;\">\n",
              "      <th></th>\n",
              "      <th>song_id</th>\n",
              "      <th>name</th>\n",
              "      <th>isrc</th>\n",
              "    </tr>\n",
              "  </thead>\n",
              "  <tbody>\n",
              "    <tr>\n",
              "      <th>0</th>\n",
              "      <td>LP7pLJoJFBvyuUwvu+oLzjT+bI+UeBPURCecJsX1jjs=</td>\n",
              "      <td>我們</td>\n",
              "      <td>TWUM71200043</td>\n",
              "    </tr>\n",
              "    <tr>\n",
              "      <th>1</th>\n",
              "      <td>ClazTFnk6r0Bnuie44bocdNMM3rdlrq0bCGAsGUWcHE=</td>\n",
              "      <td>Let Me Love You</td>\n",
              "      <td>QMZSY1600015</td>\n",
              "    </tr>\n",
              "    <tr>\n",
              "      <th>2</th>\n",
              "      <td>u2ja/bZE3zhCGxvbbOB3zOoUjx27u40cf5g09UXMoKQ=</td>\n",
              "      <td>原諒我</td>\n",
              "      <td>TWA530887303</td>\n",
              "    </tr>\n",
              "    <tr>\n",
              "      <th>3</th>\n",
              "      <td>92Fqsy0+p6+RHe2EoLKjHahORHR1Kq1TBJoClW9v+Ts=</td>\n",
              "      <td>Classic</td>\n",
              "      <td>USSM11301446</td>\n",
              "    </tr>\n",
              "    <tr>\n",
              "      <th>4</th>\n",
              "      <td>0QFmz/+rJy1Q56C1DuYqT9hKKqi5TUqx0sN0IwvoHrw=</td>\n",
              "      <td>愛投羅網</td>\n",
              "      <td>TWA471306001</td>\n",
              "    </tr>\n",
              "  </tbody>\n",
              "</table>\n",
              "</div>"
            ],
            "text/plain": [
              "                                        song_id             name          isrc\n",
              "0  LP7pLJoJFBvyuUwvu+oLzjT+bI+UeBPURCecJsX1jjs=               我們  TWUM71200043\n",
              "1  ClazTFnk6r0Bnuie44bocdNMM3rdlrq0bCGAsGUWcHE=  Let Me Love You  QMZSY1600015\n",
              "2  u2ja/bZE3zhCGxvbbOB3zOoUjx27u40cf5g09UXMoKQ=              原諒我  TWA530887303\n",
              "3  92Fqsy0+p6+RHe2EoLKjHahORHR1Kq1TBJoClW9v+Ts=          Classic  USSM11301446\n",
              "4  0QFmz/+rJy1Q56C1DuYqT9hKKqi5TUqx0sN0IwvoHrw=             愛投羅網  TWA471306001"
            ]
          },
          "execution_count": 7,
          "metadata": {},
          "output_type": "execute_result"
        }
      ]
    },
    {
      "cell_type": "markdown",
      "metadata": {
        "id": "cMj2wgXUzFSI"
      },
      "source": [
        "In the grid below, we encorporate the data cleaning and transformation. Data cleaning involves removing / imputing NA values. We will now merge the data from different csv files to one data frame. The grid below also contains a function which would extract year from the isrc_id."
      ]
    },
    {
      "cell_type": "markdown",
      "metadata": {
        "id": "5I21x7W_zFSJ"
      },
      "source": [
        "### 2.2 Merging the Data\n",
        "In this section, we will merge the different csv files to one dataframe."
      ]
    },
    {
      "cell_type": "code",
      "metadata": {
        "colab": {
          "base_uri": "https://localhost:8080/"
        },
        "id": "QE5mRwk8zFSJ",
        "outputId": "c24bdc37-1943-43f6-b57c-915738366091"
      },
      "source": [
        "print(\"Data merging...\")\n",
        "\n",
        "# Merging song with train and test dataframes\n",
        "train = train.merge(songs, on = 'song_id', how = 'left')\n",
        "test = test.merge(songs, on = 'song_id', how = 'left')\n",
        "\n",
        "# Data Extraction/Transformation - Extracting days,\n",
        "# months and years from expiration and registration time\n",
        "members['membership_days'] = members['expiration_date'].subtract(\n",
        "    members['registration_init_time']).dt.days.astype(int)\n",
        "\n",
        "members['registration_year'] = members['registration_init_time'].dt.year\n",
        "members['registration_month'] = members['registration_init_time'].dt.month\n",
        "members['registration_date'] = members['registration_init_time'].dt.day\n",
        "\n",
        "members['expiration_year'] = members['expiration_date'].dt.year\n",
        "members['expiration_month'] = members['expiration_date'].dt.month\n",
        "members['expiration_date'] = members['expiration_date'].dt.day\n",
        "members = members.drop(['registration_init_time'], axis=1)\n",
        "\n",
        "# Converting isrc id to year\n",
        "def isrc_to_year(isrc):\n",
        "    if type(isrc) == str:\n",
        "        if int(isrc[5:7]) > 17:\n",
        "            return 1900 + int(isrc[5:7])\n",
        "        else:\n",
        "            return 2000 + int(isrc[5:7])\n",
        "\n",
        "# extracting the year of the song from isrc\n",
        "songs_extra['song_year'] = songs_extra['isrc'].apply(isrc_to_year)\n",
        "\n",
        "# Dropping isrc and name from songs_extra\n",
        "songs_extra.drop(['isrc', 'name'], axis = 1, inplace = True)\n",
        "\n",
        "train = train.merge(members, on='msno', how='left')\n",
        "train.msno = train.msno.astype('category')\n",
        "test = test.merge(members, on='msno', how='left')\n",
        "test.msno = test.msno.astype('category')\n",
        "\n",
        "train = train.merge(songs_extra, on = 'song_id', how = 'left')\n",
        "train.song_length.fillna(200000, inplace=True)\n",
        "train.song_length = train.song_length.astype(np.uint32)\n",
        "train.song_id = train.song_id.astype('category')\n",
        "\n",
        "test = test.merge(songs_extra, on='song_id', how='left')\n",
        "test.song_length.fillna(200000, inplace=True)\n",
        "test.song_length = test.song_length.astype(np.uint32)\n",
        "test.song_id = test.song_id.astype('category')\n",
        "\n",
        "# deleting reduntant dataframes\n",
        "\n",
        "del members, songs; gc.collect();\n",
        "\n",
        "print(\"Done merging...\")"
      ],
      "execution_count": null,
      "outputs": [
        {
          "name": "stdout",
          "output_type": "stream",
          "text": [
            "Data merging...\n",
            "Done merging...\n"
          ]
        }
      ]
    },
    {
      "cell_type": "code",
      "metadata": {
        "id": "Dhrw50dBzFSL"
      },
      "source": [
        "# testing isrc_to_year\n",
        "assert len(songs_extra['song_year']) != 0"
      ],
      "execution_count": null,
      "outputs": []
    },
    {
      "cell_type": "markdown",
      "metadata": {
        "id": "v5qPzYmNzFSL"
      },
      "source": [
        "Let's check if the train dataframe has the right column types"
      ]
    },
    {
      "cell_type": "code",
      "metadata": {
        "colab": {
          "base_uri": "https://localhost:8080/"
        },
        "id": "igBTxaTYzFSL",
        "outputId": "877ac1b2-27e1-4219-9d16-f4afae4fd780"
      },
      "source": [
        "train.dtypes"
      ],
      "execution_count": null,
      "outputs": [
        {
          "data": {
            "text/plain": [
              "msno                  category\n",
              "song_id               category\n",
              "source_system_tab     category\n",
              "source_screen_name    category\n",
              "source_type           category\n",
              "target                   uint8\n",
              "song_length             uint32\n",
              "genre_ids             category\n",
              "artist_name           category\n",
              "composer              category\n",
              "lyricist              category\n",
              "language              category\n",
              "city                  category\n",
              "bd                       uint8\n",
              "gender                category\n",
              "registered_via        category\n",
              "expiration_date          int64\n",
              "membership_days          int64\n",
              "registration_year        int64\n",
              "registration_month       int64\n",
              "registration_date        int64\n",
              "expiration_year          int64\n",
              "expiration_month         int64\n",
              "song_year              float64\n",
              "dtype: object"
            ]
          },
          "execution_count": 10,
          "metadata": {},
          "output_type": "execute_result"
        }
      ]
    },
    {
      "cell_type": "markdown",
      "metadata": {
        "id": "7uelCD0HzFSM"
      },
      "source": [
        "Let's now perform some feature engineering on the existing features. In this, we extract new features from the existing ones and impute the data to fill the NAs."
      ]
    },
    {
      "cell_type": "markdown",
      "metadata": {
        "id": "J6GluX0IzFSN"
      },
      "source": [
        "# 3. Feature Engineering\n",
        "In this section, we will extract new features from the existing dataset. This will result in a few new features which will help us in predicting the target better."
      ]
    },
    {
      "cell_type": "markdown",
      "metadata": {
        "id": "eaaTh22KzFSN"
      },
      "source": [
        "### 3.1 Adding new features\n",
        "We extract things like genre count, lyricists count, featured count, etc."
      ]
    },
    {
      "cell_type": "code",
      "metadata": {
        "colab": {
          "base_uri": "https://localhost:8080/"
        },
        "id": "96dcbu99zFSO",
        "outputId": "9c0c38d4-3367-4073-c601-4bffcab224da"
      },
      "source": [
        "train['genre_ids'].head()"
      ],
      "execution_count": null,
      "outputs": [
        {
          "data": {
            "text/plain": [
              "0     359\n",
              "1    1259\n",
              "2    1259\n",
              "3    1019\n",
              "4    1011\n",
              "Name: genre_ids, dtype: category\n",
              "Categories (1045, object): ['1000', '1000|2154|751', '1007', '1011', ..., '986', '986|1955', '993',\n",
              "                            '993|751']"
            ]
          },
          "execution_count": 11,
          "metadata": {},
          "output_type": "execute_result"
        }
      ]
    },
    {
      "cell_type": "code",
      "metadata": {
        "colab": {
          "base_uri": "https://localhost:8080/"
        },
        "id": "HXKVweLUzFSP",
        "outputId": "3e9f29d7-9785-43fc-9716-0b242190d8c2"
      },
      "source": [
        "print('Adding new features')\n",
        "\n",
        "# Counting genre_id\n",
        "def genre_id_count(x):\n",
        "    if x == 'no_genre_id':\n",
        "        return 0\n",
        "    else:\n",
        "        return x.count('|') + 1\n",
        "    \n",
        "# filling NA in place of null values\n",
        "train['genre_ids'].cat.add_categories('no_genre_id').fillna('no_genre_id', inplace=True)\n",
        "test['genre_ids'].cat.add_categories('no_genre_id').fillna('no_genre_id', inplace=True)\n",
        "train['genre_ids_count'] = train['genre_ids'].apply(genre_id_count)\n",
        "\n",
        "train['genre_ids_count'].isna().sum()"
      ],
      "execution_count": null,
      "outputs": [
        {
          "name": "stdout",
          "output_type": "stream",
          "text": [
            "Adding new features\n"
          ]
        },
        {
          "data": {
            "text/plain": [
              "118455"
            ]
          },
          "execution_count": 12,
          "metadata": {},
          "output_type": "execute_result"
        }
      ]
    },
    {
      "cell_type": "code",
      "metadata": {
        "colab": {
          "base_uri": "https://localhost:8080/"
        },
        "id": "zZxw4FH4zFSQ",
        "outputId": "2f8e22e2-f3ab-4d1e-f710-613a0d1f62bd"
      },
      "source": [
        "train[train['genre_ids_count'] != train['genre_ids_count'].isna()]['genre_ids_count'].value_counts()"
      ],
      "execution_count": null,
      "outputs": [
        {
          "data": {
            "text/plain": [
              "1.0    6918646\n",
              "2.0     298160\n",
              "3.0      33682\n",
              "4.0       6096\n",
              "5.0       2120\n",
              "8.0        213\n",
              "6.0         33\n",
              "7.0         13\n",
              "Name: genre_ids_count, dtype: int64"
            ]
          },
          "execution_count": 13,
          "metadata": {},
          "output_type": "execute_result"
        }
      ]
    },
    {
      "cell_type": "code",
      "metadata": {
        "colab": {
          "base_uri": "https://localhost:8080/"
        },
        "id": "WnGSINGxzFSQ",
        "outputId": "46363274-bb30-4a13-fa2c-004481119562"
      },
      "source": [
        "train['genre_ids_count'].unique()"
      ],
      "execution_count": null,
      "outputs": [
        {
          "data": {
            "text/plain": [
              "array([ 1.,  2., nan,  3.,  5.,  4.,  8.,  7.,  6.])"
            ]
          },
          "execution_count": 14,
          "metadata": {},
          "output_type": "execute_result"
        }
      ]
    },
    {
      "cell_type": "code",
      "metadata": {
        "colab": {
          "base_uri": "https://localhost:8080/"
        },
        "id": "xDft2NIVzFSR",
        "outputId": "8abd5250-f658-44c7-81ad-88f2576bcf31"
      },
      "source": [
        "print('Adding new features')\n",
        "\n",
        "# Counting genre_id\n",
        "def genre_id_count(x):\n",
        "    if x == 'no_genre_id':\n",
        "        return 0\n",
        "    else:\n",
        "        return x.count('|') + 1\n",
        "    \n",
        "# filling NA in place of null values\n",
        "train['genre_ids'].cat.add_categories('no_genre_id').fillna('no_genre_id', inplace=True)\n",
        "test['genre_ids'].cat.add_categories('no_genre_id').fillna('no_genre_id', inplace=True)\n",
        "train['genre_ids_count'] = train['genre_ids'].apply(genre_id_count).fillna(0).astype(np.int8)\n",
        "test['genre_ids_count'] = test['genre_ids'].apply(genre_id_count).fillna(0).astype(np.int8)\n",
        "\n",
        "# Splitting the lyricists by ['|', '/', '\\\\', ';'] and counting the number of Lyricists\n",
        "def lyricists_count(x):\n",
        "    if x == 'no_lyricist':\n",
        "        return 0\n",
        "    else:\n",
        "        return sum(map(x.count, ['|', '/', '\\\\', ';'])) + 1\n",
        "    return sum(map(x.count, ['|', '/', '\\\\', ';']))\n",
        "\n",
        "train['lyricist'].cat.add_categories('no_lyricist').fillna('no_lyricist', inplace=True)\n",
        "test['lyricist'].cat.add_categories('no_lyricist').fillna('no_lyricist', inplace=True)\n",
        "train['lyricists_count'] = train['lyricist'].apply(lyricists_count).fillna(0).astype(np.int8)\n",
        "test['lyricists_count'] = test['lyricist'].apply(lyricists_count).fillna(0).astype(np.int8)\n",
        "\n",
        "# Splitting the composer by ['|', '/', '\\\\', ';'] and counting the number of Composers\n",
        "def composer_count(x):\n",
        "    if x == 'no_composer':\n",
        "        return 0\n",
        "    else:\n",
        "        return sum(map(x.count, ['|', '/', '\\\\', ';'])) + 1\n",
        "    \n",
        "train['composer'].cat.add_categories('no_composer').fillna('no_composer', inplace=True)\n",
        "test['composer'].cat.add_categories('no_composer').fillna('no_composer', inplace=True)\n",
        "train['composer_count'] = train['composer'].apply(composer_count).fillna(0).astype(np.int8)\n",
        "test['composer_count'] = test['composer'].apply(composer_count).fillna(0).astype(np.int8)\n",
        "\n",
        "# Checking for feat in the column value\n",
        "def is_featured(x):\n",
        "    if 'feat' in str(x):\n",
        "        return 1\n",
        "    return 0\n",
        "\n",
        "train['artist_name'].cat.add_categories('no_artist').fillna('no_artist', inplace=True)\n",
        "test['artist_name'].cat.add_categories('no_artist').fillna('no_artist', inplace=True)\n",
        "train['is_featured'] = train['artist_name'].apply(is_featured).fillna(0).astype(np.int8)\n",
        "test['is_featured'] = test['artist_name'].apply(is_featured).fillna(0).astype(np.int8)\n",
        "\n",
        "# Splitting the artists by [and, ',', feat, &] and counting the number of artists\n",
        "def artist_count(x):\n",
        "    if x == 'no_artist':\n",
        "        return 0\n",
        "    else:\n",
        "        return x.count('and') + x.count(',') + x.count('feat') + x.count('&')\n",
        "    \n",
        "train['artist_count'] = train['artist_name'].apply(artist_count).fillna(0).astype(np.int8)\n",
        "test['artist_count'] = test['artist_name'].apply(artist_count).fillna(0).astype(np.int8)"
      ],
      "execution_count": null,
      "outputs": [
        {
          "name": "stdout",
          "output_type": "stream",
          "text": [
            "Adding new features\n"
          ]
        }
      ]
    },
    {
      "cell_type": "code",
      "metadata": {
        "id": "G4hiAlmOzFSS"
      },
      "source": [
        "# testing above functions\n",
        "\n",
        "# testing genre_id_count\n",
        "assert len(train['genre_ids_count']) != 0\n",
        "assert len(test['genre_ids_count']) != 0\n",
        "\n",
        "# testing composer_count\n",
        "assert len(train['composer_count']) != 0\n",
        "assert len(test['composer_count']) != 0\n",
        "\n",
        "# testing Lyricist_count\n",
        "assert len(train['lyricists_count']) != 0\n",
        "assert len(test['lyricists_count']) != 0\n",
        "\n",
        "# testing is_feat\n",
        "assert len(train['is_featured']) != 0\n",
        "assert len(test['is_featured']) != 0\n",
        "\n",
        "# testing artist_count\n",
        "assert len(train['artist_count']) != 0\n",
        "assert len(test['artist_count']) != 0"
      ],
      "execution_count": null,
      "outputs": []
    },
    {
      "cell_type": "markdown",
      "metadata": {
        "id": "5QFa7FsvzFST"
      },
      "source": [
        "In the below grid will extract even more features from the songs data like the length of the song, the language, etc."
      ]
    },
    {
      "cell_type": "code",
      "metadata": {
        "colab": {
          "base_uri": "https://localhost:8080/"
        },
        "id": "m2OenCbqzFST",
        "outputId": "9618296c-23a3-4a85-bfcd-1195857b3a6d"
      },
      "source": [
        "def song_lang_boolean(x):\n",
        "    if '17.0' in str(x) or '45.0' in str(x):\n",
        "        return 1\n",
        "    return 0\n",
        "\n",
        "train['song_lang_boolean'] = train['language'].apply(song_lang_boolean)\n",
        "\n",
        "print(train['song_lang_boolean'].unique())\n",
        "train['song_lang_boolean'].isna().sum()"
      ],
      "execution_count": null,
      "outputs": [
        {
          "name": "stdout",
          "output_type": "stream",
          "text": [
            "[ 0.  1. nan]\n"
          ]
        },
        {
          "data": {
            "text/plain": [
              "150"
            ]
          },
          "execution_count": 25,
          "metadata": {},
          "output_type": "execute_result"
        }
      ]
    },
    {
      "cell_type": "code",
      "metadata": {
        "id": "h3zuQHhPzFSU"
      },
      "source": [
        "# def count_artist_played(x):\n",
        "#     try:\n",
        "#         return _dict_count_artist_played_train[x]\n",
        "#     except KeyError:\n",
        "#         try:\n",
        "#             return _dict_count_artist_played_test[x]\n",
        "#         except KeyError:\n",
        "#             return 0\n",
        "        \n",
        "# train['count_artist_played'] = train['artist_name'].apply(count_artist_played)\n",
        "\n",
        "# print(train['count_artist_played'].value_counts())\n",
        "# print(train['count_artist_played'].nunique())\n",
        "# train['count_artist_played'].isna().sum()"
      ],
      "execution_count": null,
      "outputs": []
    },
    {
      "cell_type": "code",
      "metadata": {
        "colab": {
          "base_uri": "https://localhost:8080/"
        },
        "id": "lEscKKI0zFSV",
        "outputId": "e6505697-0e2b-4308-a194-7178940281c0"
      },
      "source": [
        "# if artist is same as composer\n",
        "train['artist_composer'] = (train['artist_name'].astype(\"object\") == train['composer']\n",
        "                           .astype(\"object\")).astype(np.int8)\n",
        "test['artist_composer'] = (test['artist_name'].astype(\"object\") == test['composer']\n",
        "                          .astype('object')).astype(np.int8)\n",
        "\n",
        "# if artist, Lyricist and composer are all three same\n",
        "train['artist_composer_lyricist'] = ((train['artist_name'].astype('object')\n",
        "                                     == train['composer'].astype('object'))\n",
        "                                    & (train['artist_name'].astype('object')\n",
        "                                      == train['lyricist'].astype('object'))\n",
        "                                    & (train['composer'].astype('object')\n",
        "                                      == train['lyricist'].astype('object'))\n",
        "                                    ).astype(np.int8)\n",
        "test['artist_composer_lyricist'] = ((test['artist_name'].astype('object')\n",
        "                                    == test['composer'].astype('object'))\n",
        "                                   & (test['artist_name'].astype('object')\n",
        "                                     == test['lyricist'].astype('object'))\n",
        "                                   & (test['composer'].astype('object')\n",
        "                                     == test['lyricist'].astype('object'))\n",
        "                                   ).astype(np.int8)\n",
        "\n",
        "# is song language 17 or 45\n",
        "def song_lang_boolean(x):\n",
        "    if '17.0' in str(x) or '45.0' in str(x):\n",
        "        return 1\n",
        "    return 0\n",
        "\n",
        "train['song_lang_boolean'] = train['language'].apply(song_lang_boolean).fillna(-1).astype(np.int8)\n",
        "test['song_lang_boolean'] = test['language'].apply(song_lang_boolean).fillna(-1).astype(np.int8)\n",
        "\n",
        "# is song smaller than average song length\n",
        "_mean_song_length = np.mean(train['song_length'])\n",
        "def smaller_song(x):\n",
        "    if x < _mean_song_length:\n",
        "        return 1\n",
        "    return 0\n",
        "\n",
        "train['smaller_song'] = train['song_length'].apply(smaller_song).astype(np.int8)\n",
        "test['smaller_song'] = test['song_length'].apply(smaller_song).astype(np.int8)\n",
        "\n",
        "# number of times a song has been played before\n",
        "_dict_count_song_played_train = {k: v for k, v in train['song_id']\n",
        "                                .value_counts().iteritems()}\n",
        "_dict_count_song_played_test = {k: v for k, v in test['song_id']\n",
        "                                .value_counts().iteritems()}\n",
        "\n",
        "def count_song_played(x):\n",
        "    try:\n",
        "        return _dict_count_song_played_train[x]\n",
        "    except KeyError:\n",
        "        try:\n",
        "            return _dict_count_song_played_test[x]\n",
        "        except KeyError:\n",
        "            return 0\n",
        "        \n",
        "train['count_song_played'] = train['song_id'].apply(count_song_played).astype(np.int64)\n",
        "test['count_song_played'] = test['song_id'].apply(count_song_played).astype(np.int64)\n",
        "\n",
        "# number of times the artist has been played\n",
        "_dict_count_artist_played_train = {k: v for k, v in train['artist_name']\n",
        "                                  .value_counts().iteritems()}\n",
        "_dict_count_artist_played_test = {k:v for k, v in test['artist_name']\n",
        "                                 .value_counts().iteritems()}\n",
        "\n",
        "def count_artist_played(x):\n",
        "    try:\n",
        "        return _dict_count_artist_played_train[x]\n",
        "    except KeyError:\n",
        "        try:\n",
        "            return _dict_count_artist_played_test[x]\n",
        "        except KeyError:\n",
        "            return 0\n",
        "        \n",
        "train['count_artist_played'] = train['artist_name'].apply(count_artist_played).fillna(0).astype(np.int64)\n",
        "test['count_artist_played'] = test['artist_name'].apply(count_artist_played).fillna(0).astype(np.int64)\n",
        "\n",
        "print(\"Done adding features\")"
      ],
      "execution_count": null,
      "outputs": [
        {
          "name": "stdout",
          "output_type": "stream",
          "text": [
            "Done adding features\n"
          ]
        }
      ]
    },
    {
      "cell_type": "code",
      "metadata": {
        "id": "mkhwc3fazFSW"
      },
      "source": [
        "# testing the functions\n",
        "\n",
        "# testing song_lang_boolean\n",
        "assert train['song_lang_boolean'][0] == 0\n",
        "assert train['song_lang_boolean'][58] == 1\n",
        "\n",
        "# testing smaller_song\n",
        "assert len(test['smaller_song']) != 0\n",
        "assert len(train['smaller_song']) != 0\n",
        "\n",
        "# testing count_song_played\n",
        "assert 'count_song_played' in train\n",
        "assert len(train['count_artist_played']) != 0\n",
        "assert 'count_song_played' in test\n",
        "assert len(test['count_artist_played']) != 0"
      ],
      "execution_count": null,
      "outputs": []
    },
    {
      "cell_type": "markdown",
      "metadata": {
        "id": "SezBQ7xQzFSW"
      },
      "source": [
        "Next, let's create train, test and validation sets from the original data."
      ]
    },
    {
      "cell_type": "markdown",
      "metadata": {
        "id": "MwiA5U7PzFSW"
      },
      "source": [
        "# 4. Saving the data to local\n",
        "We will save the data to the local for future use."
      ]
    },
    {
      "cell_type": "code",
      "metadata": {
        "id": "xAQMY5sFzFSX"
      },
      "source": [
        "train.to_csv(\"/gdrive/My Drive/LetsGrowMore/Music Recommendation/processed_train_1.csv\") # saving file to local\n",
        "test.to_csv(\"/gdrive/My Drive/LetsGrowMore/Music Recommendation/test_1.csv\") # saving test file to local"
      ],
      "execution_count": null,
      "outputs": []
    },
    {
      "cell_type": "code",
      "metadata": {
        "id": "HnXY6_hszFSX"
      },
      "source": [
        "del songs_extra # removing unwanted data from memory"
      ],
      "execution_count": null,
      "outputs": []
    },
    {
      "cell_type": "code",
      "metadata": {
        "colab": {
          "base_uri": "https://localhost:8080/"
        },
        "id": "5qOxSN85zFSY",
        "outputId": "6f910d12-316e-40c1-f823-ee0a5219a9cd"
      },
      "source": [
        "gc.collect()"
      ],
      "execution_count": null,
      "outputs": [
        {
          "data": {
            "text/plain": [
              "573"
            ]
          },
          "execution_count": 31,
          "metadata": {},
          "output_type": "execute_result"
        }
      ]
    },
    {
      "cell_type": "markdown",
      "metadata": {
        "id": "qQV1MSe2zFSY"
      },
      "source": [
        "Now let's read the processed data back in the memory."
      ]
    },
    {
      "cell_type": "code",
      "metadata": {
        "id": "yhyXdeIezFSY"
      },
      "source": [
        "data = pd.read_csv('/gdrive/My Drive/LetsGrowMore/Music Recommendation/processed_train_1.csv')"
      ],
      "execution_count": 3,
      "outputs": []
    },
    {
      "cell_type": "code",
      "metadata": {
        "colab": {
          "base_uri": "https://localhost:8080/",
          "height": 505
        },
        "id": "AahRL5IszFSZ",
        "outputId": "537cfe80-70da-49d0-8d15-26c0086c09c7"
      },
      "source": [
        "data.head()"
      ],
      "execution_count": null,
      "outputs": [
        {
          "data": {
            "text/html": [
              "<div>\n",
              "<style scoped>\n",
              "    .dataframe tbody tr th:only-of-type {\n",
              "        vertical-align: middle;\n",
              "    }\n",
              "\n",
              "    .dataframe tbody tr th {\n",
              "        vertical-align: top;\n",
              "    }\n",
              "\n",
              "    .dataframe thead th {\n",
              "        text-align: right;\n",
              "    }\n",
              "</style>\n",
              "<table border=\"1\" class=\"dataframe\">\n",
              "  <thead>\n",
              "    <tr style=\"text-align: right;\">\n",
              "      <th></th>\n",
              "      <th>Unnamed: 0</th>\n",
              "      <th>msno</th>\n",
              "      <th>song_id</th>\n",
              "      <th>source_system_tab</th>\n",
              "      <th>source_screen_name</th>\n",
              "      <th>source_type</th>\n",
              "      <th>target</th>\n",
              "      <th>song_length</th>\n",
              "      <th>genre_ids</th>\n",
              "      <th>artist_name</th>\n",
              "      <th>composer</th>\n",
              "      <th>lyricist</th>\n",
              "      <th>language</th>\n",
              "      <th>city</th>\n",
              "      <th>bd</th>\n",
              "      <th>gender</th>\n",
              "      <th>registered_via</th>\n",
              "      <th>expiration_date</th>\n",
              "      <th>membership_days</th>\n",
              "      <th>registration_year</th>\n",
              "      <th>registration_month</th>\n",
              "      <th>registration_date</th>\n",
              "      <th>expiration_year</th>\n",
              "      <th>expiration_month</th>\n",
              "      <th>song_year</th>\n",
              "      <th>genre_ids_count</th>\n",
              "      <th>lyricists_count</th>\n",
              "      <th>composer_count</th>\n",
              "      <th>is_featured</th>\n",
              "      <th>artist_count</th>\n",
              "      <th>artist_composer</th>\n",
              "      <th>artist_composer_lyricist</th>\n",
              "      <th>song_lang_boolean</th>\n",
              "      <th>smaller_song</th>\n",
              "      <th>count_song_played</th>\n",
              "      <th>count_artist_played</th>\n",
              "    </tr>\n",
              "  </thead>\n",
              "  <tbody>\n",
              "    <tr>\n",
              "      <th>0</th>\n",
              "      <td>0</td>\n",
              "      <td>FGtllVqz18RPiwJj/edr2gV78zirAiY/9SmYvia+kCg=</td>\n",
              "      <td>BBzumQNXUHKdEBOB7mAJuzok+IJA1c2Ryg/yzTF6tik=</td>\n",
              "      <td>explore</td>\n",
              "      <td>Explore</td>\n",
              "      <td>online-playlist</td>\n",
              "      <td>1</td>\n",
              "      <td>206471</td>\n",
              "      <td>359</td>\n",
              "      <td>Bastille</td>\n",
              "      <td>Dan Smith| Mark Crew</td>\n",
              "      <td>NaN</td>\n",
              "      <td>52.0</td>\n",
              "      <td>1</td>\n",
              "      <td>0</td>\n",
              "      <td>NaN</td>\n",
              "      <td>7</td>\n",
              "      <td>5</td>\n",
              "      <td>2103</td>\n",
              "      <td>2012</td>\n",
              "      <td>1</td>\n",
              "      <td>2</td>\n",
              "      <td>2017</td>\n",
              "      <td>10</td>\n",
              "      <td>2016.0</td>\n",
              "      <td>1</td>\n",
              "      <td>0</td>\n",
              "      <td>2</td>\n",
              "      <td>0</td>\n",
              "      <td>0</td>\n",
              "      <td>0</td>\n",
              "      <td>0</td>\n",
              "      <td>0</td>\n",
              "      <td>1</td>\n",
              "      <td>215</td>\n",
              "      <td>1140</td>\n",
              "    </tr>\n",
              "    <tr>\n",
              "      <th>1</th>\n",
              "      <td>1</td>\n",
              "      <td>Xumu+NIjS6QYVxDS4/t3SawvJ7viT9hPKXmf0RtLNx8=</td>\n",
              "      <td>bhp/MpSNoqoxOIB+/l8WPqu6jldth4DIpCm3ayXnJqM=</td>\n",
              "      <td>my library</td>\n",
              "      <td>Local playlist more</td>\n",
              "      <td>local-playlist</td>\n",
              "      <td>1</td>\n",
              "      <td>284584</td>\n",
              "      <td>1259</td>\n",
              "      <td>Various Artists</td>\n",
              "      <td>NaN</td>\n",
              "      <td>NaN</td>\n",
              "      <td>52.0</td>\n",
              "      <td>13</td>\n",
              "      <td>24</td>\n",
              "      <td>female</td>\n",
              "      <td>9</td>\n",
              "      <td>11</td>\n",
              "      <td>2301</td>\n",
              "      <td>2011</td>\n",
              "      <td>5</td>\n",
              "      <td>25</td>\n",
              "      <td>2017</td>\n",
              "      <td>9</td>\n",
              "      <td>1999.0</td>\n",
              "      <td>1</td>\n",
              "      <td>0</td>\n",
              "      <td>0</td>\n",
              "      <td>0</td>\n",
              "      <td>0</td>\n",
              "      <td>0</td>\n",
              "      <td>0</td>\n",
              "      <td>0</td>\n",
              "      <td>0</td>\n",
              "      <td>1</td>\n",
              "      <td>303616</td>\n",
              "    </tr>\n",
              "    <tr>\n",
              "      <th>2</th>\n",
              "      <td>2</td>\n",
              "      <td>Xumu+NIjS6QYVxDS4/t3SawvJ7viT9hPKXmf0RtLNx8=</td>\n",
              "      <td>JNWfrrC7zNN7BdMpsISKa4Mw+xVJYNnxXh3/Epw7QgY=</td>\n",
              "      <td>my library</td>\n",
              "      <td>Local playlist more</td>\n",
              "      <td>local-playlist</td>\n",
              "      <td>1</td>\n",
              "      <td>225396</td>\n",
              "      <td>1259</td>\n",
              "      <td>Nas</td>\n",
              "      <td>N. Jones、W. Adams、J. Lordan、D. Ingle</td>\n",
              "      <td>NaN</td>\n",
              "      <td>52.0</td>\n",
              "      <td>13</td>\n",
              "      <td>24</td>\n",
              "      <td>female</td>\n",
              "      <td>9</td>\n",
              "      <td>11</td>\n",
              "      <td>2301</td>\n",
              "      <td>2011</td>\n",
              "      <td>5</td>\n",
              "      <td>25</td>\n",
              "      <td>2017</td>\n",
              "      <td>9</td>\n",
              "      <td>2006.0</td>\n",
              "      <td>1</td>\n",
              "      <td>0</td>\n",
              "      <td>1</td>\n",
              "      <td>0</td>\n",
              "      <td>0</td>\n",
              "      <td>0</td>\n",
              "      <td>0</td>\n",
              "      <td>0</td>\n",
              "      <td>1</td>\n",
              "      <td>4</td>\n",
              "      <td>289</td>\n",
              "    </tr>\n",
              "    <tr>\n",
              "      <th>3</th>\n",
              "      <td>3</td>\n",
              "      <td>Xumu+NIjS6QYVxDS4/t3SawvJ7viT9hPKXmf0RtLNx8=</td>\n",
              "      <td>2A87tzfnJTSWqD7gIZHisolhe4DMdzkbd6LzO1KHjNs=</td>\n",
              "      <td>my library</td>\n",
              "      <td>Local playlist more</td>\n",
              "      <td>local-playlist</td>\n",
              "      <td>1</td>\n",
              "      <td>255512</td>\n",
              "      <td>1019</td>\n",
              "      <td>Soundway</td>\n",
              "      <td>Kwadwo Donkoh</td>\n",
              "      <td>NaN</td>\n",
              "      <td>-1.0</td>\n",
              "      <td>13</td>\n",
              "      <td>24</td>\n",
              "      <td>female</td>\n",
              "      <td>9</td>\n",
              "      <td>11</td>\n",
              "      <td>2301</td>\n",
              "      <td>2011</td>\n",
              "      <td>5</td>\n",
              "      <td>25</td>\n",
              "      <td>2017</td>\n",
              "      <td>9</td>\n",
              "      <td>2010.0</td>\n",
              "      <td>1</td>\n",
              "      <td>0</td>\n",
              "      <td>1</td>\n",
              "      <td>0</td>\n",
              "      <td>0</td>\n",
              "      <td>0</td>\n",
              "      <td>0</td>\n",
              "      <td>0</td>\n",
              "      <td>0</td>\n",
              "      <td>1</td>\n",
              "      <td>1</td>\n",
              "    </tr>\n",
              "    <tr>\n",
              "      <th>4</th>\n",
              "      <td>4</td>\n",
              "      <td>FGtllVqz18RPiwJj/edr2gV78zirAiY/9SmYvia+kCg=</td>\n",
              "      <td>3qm6XTZ6MOCU11x8FIVbAGH5l5uMkT3/ZalWG1oo2Gc=</td>\n",
              "      <td>explore</td>\n",
              "      <td>Explore</td>\n",
              "      <td>online-playlist</td>\n",
              "      <td>1</td>\n",
              "      <td>187802</td>\n",
              "      <td>1011</td>\n",
              "      <td>Brett Young</td>\n",
              "      <td>Brett Young| Kelly Archer| Justin Ebach</td>\n",
              "      <td>NaN</td>\n",
              "      <td>52.0</td>\n",
              "      <td>1</td>\n",
              "      <td>0</td>\n",
              "      <td>NaN</td>\n",
              "      <td>7</td>\n",
              "      <td>5</td>\n",
              "      <td>2103</td>\n",
              "      <td>2012</td>\n",
              "      <td>1</td>\n",
              "      <td>2</td>\n",
              "      <td>2017</td>\n",
              "      <td>10</td>\n",
              "      <td>2016.0</td>\n",
              "      <td>1</td>\n",
              "      <td>0</td>\n",
              "      <td>3</td>\n",
              "      <td>0</td>\n",
              "      <td>0</td>\n",
              "      <td>0</td>\n",
              "      <td>0</td>\n",
              "      <td>0</td>\n",
              "      <td>1</td>\n",
              "      <td>412</td>\n",
              "      <td>427</td>\n",
              "    </tr>\n",
              "  </tbody>\n",
              "</table>\n",
              "</div>"
            ],
            "text/plain": [
              "   Unnamed: 0  ... count_artist_played\n",
              "0           0  ...                1140\n",
              "1           1  ...              303616\n",
              "2           2  ...                 289\n",
              "3           3  ...                   1\n",
              "4           4  ...                 427\n",
              "\n",
              "[5 rows x 36 columns]"
            ]
          },
          "execution_count": 33,
          "metadata": {},
          "output_type": "execute_result"
        }
      ]
    },
    {
      "cell_type": "code",
      "metadata": {
        "id": "szTyfcfSzFSi"
      },
      "source": [
        "train = data.drop(data.columns[0], axis=1)"
      ],
      "execution_count": 4,
      "outputs": []
    },
    {
      "cell_type": "markdown",
      "metadata": {
        "id": "-0Xu53eCzFSi"
      },
      "source": [
        "In the below grid, we extract the training and target values from the data"
      ]
    },
    {
      "cell_type": "code",
      "metadata": {
        "id": "uifdAKtXzFSi"
      },
      "source": [
        "# converting the columns to category wherever needed\n",
        "for col in train.columns:\n",
        "    if train[col].dtype == object:\n",
        "        train[col] = train[col].astype('category')\n",
        "        \n",
        "y_train = train['target'].values\n",
        "x_train = train.drop(['target'], axis=1)"
      ],
      "execution_count": 5,
      "outputs": []
    },
    {
      "cell_type": "code",
      "metadata": {
        "id": "dXy_gwb9zFSj",
        "colab": {
          "base_uri": "https://localhost:8080/"
        },
        "outputId": "af06ae78-fee9-4c6b-82b8-ac5989391950"
      },
      "source": [
        "del train\n",
        "gc.collect()"
      ],
      "execution_count": 6,
      "outputs": [
        {
          "output_type": "execute_result",
          "data": {
            "text/plain": [
              "50"
            ]
          },
          "metadata": {},
          "execution_count": 6
        }
      ]
    },
    {
      "cell_type": "markdown",
      "metadata": {
        "id": "fXReEKTczFSj"
      },
      "source": [
        "The below grid would split the data into train, validation and test sets."
      ]
    },
    {
      "cell_type": "code",
      "metadata": {
        "id": "KOxFoGRXzFSj"
      },
      "source": [
        "from sklearn.model_selection import train_test_split\n",
        "\n",
        "x_train_all, x_test, y_train_all, y_test = train_test_split(x_train, y_train,\n",
        "                                                           test_size=0.2)\n",
        "\n",
        "x_train, x_val, y_train, y_val = train_test_split(x_train_all, y_train_all,\n",
        "                                                 test_size=0.2)"
      ],
      "execution_count": 7,
      "outputs": []
    },
    {
      "cell_type": "code",
      "metadata": {
        "colab": {
          "base_uri": "https://localhost:8080/",
          "height": 338
        },
        "id": "PoWDr9wZzFSk",
        "outputId": "3131debf-f0b7-4019-9738-f5cde14a7ea4"
      },
      "source": [
        "x_train.head()"
      ],
      "execution_count": null,
      "outputs": [
        {
          "data": {
            "text/html": [
              "<div>\n",
              "<style scoped>\n",
              "    .dataframe tbody tr th:only-of-type {\n",
              "        vertical-align: middle;\n",
              "    }\n",
              "\n",
              "    .dataframe tbody tr th {\n",
              "        vertical-align: top;\n",
              "    }\n",
              "\n",
              "    .dataframe thead th {\n",
              "        text-align: right;\n",
              "    }\n",
              "</style>\n",
              "<table border=\"1\" class=\"dataframe\">\n",
              "  <thead>\n",
              "    <tr style=\"text-align: right;\">\n",
              "      <th></th>\n",
              "      <th>msno</th>\n",
              "      <th>song_id</th>\n",
              "      <th>source_system_tab</th>\n",
              "      <th>source_screen_name</th>\n",
              "      <th>source_type</th>\n",
              "      <th>song_length</th>\n",
              "      <th>genre_ids</th>\n",
              "      <th>artist_name</th>\n",
              "      <th>composer</th>\n",
              "      <th>lyricist</th>\n",
              "      <th>language</th>\n",
              "      <th>city</th>\n",
              "      <th>bd</th>\n",
              "      <th>gender</th>\n",
              "      <th>registered_via</th>\n",
              "      <th>expiration_date</th>\n",
              "      <th>membership_days</th>\n",
              "      <th>registration_year</th>\n",
              "      <th>registration_month</th>\n",
              "      <th>registration_date</th>\n",
              "      <th>expiration_year</th>\n",
              "      <th>expiration_month</th>\n",
              "      <th>song_year</th>\n",
              "      <th>genre_ids_count</th>\n",
              "      <th>lyricists_count</th>\n",
              "      <th>composer_count</th>\n",
              "      <th>is_featured</th>\n",
              "      <th>artist_count</th>\n",
              "      <th>artist_composer</th>\n",
              "      <th>artist_composer_lyricist</th>\n",
              "      <th>song_lang_boolean</th>\n",
              "      <th>smaller_song</th>\n",
              "      <th>count_song_played</th>\n",
              "      <th>count_artist_played</th>\n",
              "    </tr>\n",
              "  </thead>\n",
              "  <tbody>\n",
              "    <tr>\n",
              "      <th>3449671</th>\n",
              "      <td>MS5At04HeKKLQb0dxzqHNFEN3BpQR8duy9OdgfXrJsI=</td>\n",
              "      <td>G5y0BnqzStZvlN8wFt+io6gsxNM98bDwNlvB72CuIpQ=</td>\n",
              "      <td>discover</td>\n",
              "      <td>Radio</td>\n",
              "      <td>radio</td>\n",
              "      <td>223283</td>\n",
              "      <td>139</td>\n",
              "      <td>Jeffrey Osborne</td>\n",
              "      <td>Jeffrey Osborne| David Wollinski</td>\n",
              "      <td>NaN</td>\n",
              "      <td>52.0</td>\n",
              "      <td>1</td>\n",
              "      <td>0</td>\n",
              "      <td>NaN</td>\n",
              "      <td>7</td>\n",
              "      <td>30</td>\n",
              "      <td>400</td>\n",
              "      <td>2016</td>\n",
              "      <td>8</td>\n",
              "      <td>26</td>\n",
              "      <td>2017</td>\n",
              "      <td>9</td>\n",
              "      <td>1999.0</td>\n",
              "      <td>1</td>\n",
              "      <td>0</td>\n",
              "      <td>2</td>\n",
              "      <td>0</td>\n",
              "      <td>0</td>\n",
              "      <td>0</td>\n",
              "      <td>0</td>\n",
              "      <td>0</td>\n",
              "      <td>1</td>\n",
              "      <td>2</td>\n",
              "      <td>3</td>\n",
              "    </tr>\n",
              "    <tr>\n",
              "      <th>97378</th>\n",
              "      <td>Yq80y+D3mC5ThK0ArU3/mDoAuz5dTgMHph13HnxMWC0=</td>\n",
              "      <td>DLBDZhOoW7zd7GBV99bi92ZXYUS26lzV+jJKbHshP5c=</td>\n",
              "      <td>discover</td>\n",
              "      <td>Online playlist more</td>\n",
              "      <td>online-playlist</td>\n",
              "      <td>261224</td>\n",
              "      <td>465</td>\n",
              "      <td>薛之謙</td>\n",
              "      <td>薛之謙</td>\n",
              "      <td>薛之謙</td>\n",
              "      <td>3.0</td>\n",
              "      <td>15</td>\n",
              "      <td>32</td>\n",
              "      <td>male</td>\n",
              "      <td>3</td>\n",
              "      <td>8</td>\n",
              "      <td>1322</td>\n",
              "      <td>2013</td>\n",
              "      <td>12</td>\n",
              "      <td>25</td>\n",
              "      <td>2017</td>\n",
              "      <td>8</td>\n",
              "      <td>2015.0</td>\n",
              "      <td>1</td>\n",
              "      <td>1</td>\n",
              "      <td>1</td>\n",
              "      <td>0</td>\n",
              "      <td>0</td>\n",
              "      <td>1</td>\n",
              "      <td>1</td>\n",
              "      <td>0</td>\n",
              "      <td>0</td>\n",
              "      <td>9244</td>\n",
              "      <td>21620</td>\n",
              "    </tr>\n",
              "    <tr>\n",
              "      <th>5521767</th>\n",
              "      <td>L15UCLmUJWnPSKfdoRu6Yxq8+SuLzQFokrt2l8IK2SE=</td>\n",
              "      <td>brP+NZle0tDO3xL852wQFZhCj+nGEFuZkh06sfzYqIo=</td>\n",
              "      <td>discover</td>\n",
              "      <td>Discover Chart</td>\n",
              "      <td>online-playlist</td>\n",
              "      <td>211173</td>\n",
              "      <td>465</td>\n",
              "      <td>陳奕迅 (Eason Chan)</td>\n",
              "      <td>NaN</td>\n",
              "      <td>NaN</td>\n",
              "      <td>24.0</td>\n",
              "      <td>1</td>\n",
              "      <td>0</td>\n",
              "      <td>NaN</td>\n",
              "      <td>7</td>\n",
              "      <td>3</td>\n",
              "      <td>639</td>\n",
              "      <td>2016</td>\n",
              "      <td>1</td>\n",
              "      <td>3</td>\n",
              "      <td>2017</td>\n",
              "      <td>10</td>\n",
              "      <td>2001.0</td>\n",
              "      <td>1</td>\n",
              "      <td>0</td>\n",
              "      <td>0</td>\n",
              "      <td>0</td>\n",
              "      <td>0</td>\n",
              "      <td>0</td>\n",
              "      <td>0</td>\n",
              "      <td>0</td>\n",
              "      <td>1</td>\n",
              "      <td>403</td>\n",
              "      <td>76035</td>\n",
              "    </tr>\n",
              "    <tr>\n",
              "      <th>1589164</th>\n",
              "      <td>67rPKrvEGak0BS4XRPmQSCSWDw85Vt6EFza1YeJOOco=</td>\n",
              "      <td>pZH6fe7p0TLsJeNWltUPDfatTQbuwV4Xl6okSlK88EY=</td>\n",
              "      <td>my library</td>\n",
              "      <td>Local playlist more</td>\n",
              "      <td>local-library</td>\n",
              "      <td>275226</td>\n",
              "      <td>465</td>\n",
              "      <td>順子 (Shunza)</td>\n",
              "      <td>NaN</td>\n",
              "      <td>NaN</td>\n",
              "      <td>3.0</td>\n",
              "      <td>22</td>\n",
              "      <td>30</td>\n",
              "      <td>male</td>\n",
              "      <td>9</td>\n",
              "      <td>1</td>\n",
              "      <td>2856</td>\n",
              "      <td>2010</td>\n",
              "      <td>3</td>\n",
              "      <td>8</td>\n",
              "      <td>2018</td>\n",
              "      <td>1</td>\n",
              "      <td>2003.0</td>\n",
              "      <td>1</td>\n",
              "      <td>0</td>\n",
              "      <td>0</td>\n",
              "      <td>0</td>\n",
              "      <td>0</td>\n",
              "      <td>0</td>\n",
              "      <td>0</td>\n",
              "      <td>0</td>\n",
              "      <td>0</td>\n",
              "      <td>61</td>\n",
              "      <td>2443</td>\n",
              "    </tr>\n",
              "    <tr>\n",
              "      <th>2524965</th>\n",
              "      <td>sKYanUCg3Zs0AYPuwnB2UfFqP4RFsfpNKa7iGnQFS0M=</td>\n",
              "      <td>nTaKD/bq5mQLyM6hhJZC1x3DdyP2KO+/6gFXou2N8b0=</td>\n",
              "      <td>my library</td>\n",
              "      <td>Local playlist more</td>\n",
              "      <td>local-playlist</td>\n",
              "      <td>249986</td>\n",
              "      <td>465</td>\n",
              "      <td>BoA</td>\n",
              "      <td>NaN</td>\n",
              "      <td>NaN</td>\n",
              "      <td>17.0</td>\n",
              "      <td>4</td>\n",
              "      <td>33</td>\n",
              "      <td>male</td>\n",
              "      <td>9</td>\n",
              "      <td>1</td>\n",
              "      <td>3828</td>\n",
              "      <td>2007</td>\n",
              "      <td>4</td>\n",
              "      <td>9</td>\n",
              "      <td>2017</td>\n",
              "      <td>10</td>\n",
              "      <td>2002.0</td>\n",
              "      <td>1</td>\n",
              "      <td>0</td>\n",
              "      <td>0</td>\n",
              "      <td>0</td>\n",
              "      <td>0</td>\n",
              "      <td>0</td>\n",
              "      <td>0</td>\n",
              "      <td>1</td>\n",
              "      <td>0</td>\n",
              "      <td>4</td>\n",
              "      <td>4425</td>\n",
              "    </tr>\n",
              "  </tbody>\n",
              "</table>\n",
              "</div>"
            ],
            "text/plain": [
              "                                                 msno  ... count_artist_played\n",
              "3449671  MS5At04HeKKLQb0dxzqHNFEN3BpQR8duy9OdgfXrJsI=  ...                   3\n",
              "97378    Yq80y+D3mC5ThK0ArU3/mDoAuz5dTgMHph13HnxMWC0=  ...               21620\n",
              "5521767  L15UCLmUJWnPSKfdoRu6Yxq8+SuLzQFokrt2l8IK2SE=  ...               76035\n",
              "1589164  67rPKrvEGak0BS4XRPmQSCSWDw85Vt6EFza1YeJOOco=  ...                2443\n",
              "2524965  sKYanUCg3Zs0AYPuwnB2UfFqP4RFsfpNKa7iGnQFS0M=  ...                4425\n",
              "\n",
              "[5 rows x 34 columns]"
            ]
          },
          "execution_count": 38,
          "metadata": {},
          "output_type": "execute_result"
        }
      ]
    },
    {
      "cell_type": "markdown",
      "metadata": {
        "id": "EO3JRESwzFSk"
      },
      "source": [
        "# 5. Model Fitting\n",
        "In the below steps we fit LightGBM model on various data sets to improve the accuracy of the predictions."
      ]
    },
    {
      "cell_type": "markdown",
      "metadata": {
        "id": "57YaA607zFSl"
      },
      "source": [
        "### 5.1 Taking a small sample of data for our first fit"
      ]
    },
    {
      "cell_type": "code",
      "metadata": {
        "id": "4mHYKkl5zFSl"
      },
      "source": [
        "# sampled train data\n",
        "idx = random.sample(range(0, x_train.shape[0]), 500000)\n",
        "\n",
        "y_train = pd.DataFrame(y_train)\n",
        "x_train_sampled = x_train.iloc[idx]\n",
        "y_train_sampled = y_train.iloc[idx]"
      ],
      "execution_count": 8,
      "outputs": []
    },
    {
      "cell_type": "markdown",
      "metadata": {
        "id": "OHuT2N5-zFSl"
      },
      "source": [
        "### 5.2 Let's try to fit a small model to visualize the splitting\n",
        "For visualization purpose we fit a small model having tree depth of 3."
      ]
    },
    {
      "cell_type": "code",
      "metadata": {
        "colab": {
          "base_uri": "https://localhost:8080/"
        },
        "id": "TAZkvJNKzFSm",
        "outputId": "5c3c0d03-62d4-424e-d208-2bc8a85a417a"
      },
      "source": [
        "small_model = lgb.sklearn.LGBMClassifier(objective='binary',\n",
        "                                        eval_metric='binary_logloss',\n",
        "                                        boosting='gbdt',\n",
        "                                        learning_rate=0.3,\n",
        "                                        verbose=0,\n",
        "                                        max_depth=2)\n",
        "\n",
        "small_model.fit(x_train, y_train)"
      ],
      "execution_count": null,
      "outputs": [
        {
          "name": "stdout",
          "output_type": "stream",
          "text": [
            "[LightGBM] [Warning] Unknown parameter: eval_metric\n",
            "[LightGBM] [Warning] boosting is set=gbdt, boosting_type=gbdt will be ignored. Current value: boosting=gbdt\n",
            "[LightGBM] [Warning] Unknown parameter: eval_metric\n",
            "[LightGBM] [Warning] boosting is set=gbdt, boosting_type=gbdt will be ignored. Current value: boosting=gbdt\n",
            "[LightGBM] [Warning] Auto-choosing row-wise multi-threading, the overhead of testing was 0.772677 seconds.\n",
            "You can set `force_row_wise=true` to remove the overhead.\n",
            "And if memory is not enough, you can set `force_col_wise=true`.\n"
          ]
        },
        {
          "data": {
            "text/plain": [
              "LGBMClassifier(boosting='gbdt', boosting_type='gbdt', class_weight=None,\n",
              "               colsample_bytree=1.0, eval_metric='binary_logloss',\n",
              "               importance_type='split', learning_rate=0.3, max_depth=2,\n",
              "               min_child_samples=20, min_child_weight=0.001, min_split_gain=0.0,\n",
              "               n_estimators=100, n_jobs=-1, num_leaves=31, objective='binary',\n",
              "               random_state=None, reg_alpha=0.0, reg_lambda=0.0, silent=True,\n",
              "               subsample=1.0, subsample_for_bin=200000, subsample_freq=0,\n",
              "               verbose=0)"
            ]
          },
          "execution_count": 49,
          "metadata": {},
          "output_type": "execute_result"
        }
      ]
    },
    {
      "cell_type": "code",
      "metadata": {
        "colab": {
          "base_uri": "https://localhost:8080/",
          "height": 357
        },
        "id": "jn5Fna7xzFSm",
        "outputId": "b7124291-d52b-426e-eb1f-d9a6ec1deded"
      },
      "source": [
        "print('Plotting tree...') # one tree use categorical feature to split\n",
        "\n",
        "ax = lgb.plot_tree(small_model, tree_index=1, figsize=(20, 8))\n",
        "plt.show()"
      ],
      "execution_count": null,
      "outputs": [
        {
          "name": "stdout",
          "output_type": "stream",
          "text": [
            "Plotting tree...\n"
          ]
        },
        {
          "data": {
            "image/png": "[encoded data removed]",
            "text/plain": [
              "<Figure size 1440x576 with 1 Axes>"
            ]
          },
          "metadata": {},
          "output_type": "display_data"
        }
      ]
    },
    {
      "cell_type": "markdown",
      "metadata": {
        "id": "pvpm68bgzFSn"
      },
      "source": [
        "From the above tree we can see the features which were given the most importance. The first split happens on Source_type followed by songs played which indicates that these 2 features are the most important when the maxdepth is 3."
      ]
    },
    {
      "cell_type": "markdown",
      "metadata": {
        "id": "KPlRJj8izFSn"
      },
      "source": [
        "### 5.3 Next model is on a sample of .5 million data points"
      ]
    },
    {
      "cell_type": "code",
      "metadata": {
        "colab": {
          "base_uri": "https://localhost:8080/"
        },
        "id": "efL73C4QzFSo",
        "outputId": "00a07a7c-ffc6-4b42-87e9-b1f607868972"
      },
      "source": [
        "# Fitting a model on sampled data\n",
        "sk_reg = lgb.sklearn.LGBMClassifier(\n",
        "    objective = 'binary',\n",
        "    eval_metric = 'binary_logloss',\n",
        "    boosting = 'gbdt',\n",
        "    learning_rate = 0.3,\n",
        "    verbose = 0,\n",
        "    num_leaves = 600,\n",
        "    bagging_freq = 1,\n",
        "    feature_fraction = 0.9,\n",
        "    max_bin = 256,\n",
        "    max_depth = 300,\n",
        "    num_rounds = 200\n",
        ")\n",
        "\n",
        "sk_reg.fit(x_train_sampled, y_train_sampled)"
      ],
      "execution_count": null,
      "outputs": [
        {
          "name": "stdout",
          "output_type": "stream",
          "text": [
            "[LightGBM] [Warning] Unknown parameter: eval_metric\n",
            "[LightGBM] [Warning] feature_fraction is set=0.9, colsample_bytree=1.0 will be ignored. Current value: feature_fraction=0.9\n",
            "[LightGBM] [Warning] bagging_freq is set=1, subsample_freq=0 will be ignored. Current value: bagging_freq=1\n",
            "[LightGBM] [Warning] num_iterations is set=200, num_rounds=200 will be ignored. Current value: num_iterations=200\n",
            "[LightGBM] [Warning] boosting is set=gbdt, boosting_type=gbdt will be ignored. Current value: boosting=gbdt\n",
            "[LightGBM] [Warning] Unknown parameter: eval_metric\n",
            "[LightGBM] [Warning] feature_fraction is set=0.9, colsample_bytree=1.0 will be ignored. Current value: feature_fraction=0.9\n",
            "[LightGBM] [Warning] bagging_freq is set=1, subsample_freq=0 will be ignored. Current value: bagging_freq=1\n",
            "[LightGBM] [Warning] boosting is set=gbdt, boosting_type=gbdt will be ignored. Current value: boosting=gbdt\n",
            "[LightGBM] [Warning] Auto-choosing row-wise multi-threading, the overhead of testing was 0.078148 seconds.\n",
            "You can set `force_row_wise=true` to remove the overhead.\n",
            "And if memory is not enough, you can set `force_col_wise=true`.\n"
          ]
        },
        {
          "data": {
            "text/plain": [
              "LGBMClassifier(bagging_freq=1, boosting='gbdt', boosting_type='gbdt',\n",
              "               class_weight=None, colsample_bytree=1.0,\n",
              "               eval_metric='binary_logloss', feature_fraction=0.9,\n",
              "               importance_type='split', learning_rate=0.3, max_bin=256,\n",
              "               max_depth=300, min_child_samples=20, min_child_weight=0.001,\n",
              "               min_split_gain=0.0, n_estimators=100, n_jobs=-1, num_leaves=600,\n",
              "               num_rounds=200, objective='binary', random_state=None,\n",
              "               reg_alpha=0.0, reg_lambda=0.0, silent=True, subsample=1.0,\n",
              "               subsample_for_bin=200000, subsample_freq=0, verbose=0)"
            ]
          },
          "execution_count": 51,
          "metadata": {},
          "output_type": "execute_result"
        }
      ]
    },
    {
      "cell_type": "code",
      "metadata": {
        "colab": {
          "base_uri": "https://localhost:8080/"
        },
        "id": "FwKV135ezFSo",
        "outputId": "e32e2ccd-5326-418c-f95b-1f6281bc6110"
      },
      "source": [
        "predicted = sk_reg.predict(x_val)\n",
        "accuracy = accuracy_score(y_val, predicted)\n",
        "print(f'Mean accuracy score: {accuracy:.3}')"
      ],
      "execution_count": null,
      "outputs": [
        {
          "name": "stdout",
          "output_type": "stream",
          "text": [
            "Mean accuracy score: 0.686\n"
          ]
        }
      ]
    },
    {
      "cell_type": "markdown",
      "metadata": {
        "id": "iVdVWhiZzFSp"
      },
      "source": [
        "We can see that the accuracy of the modeel is .686 on the sampled dataset. Next, let's check the features which were given the most importance in the feature selection section."
      ]
    },
    {
      "cell_type": "markdown",
      "metadata": {
        "id": "x5EalLKxzFSq"
      },
      "source": [
        "### 5.4 Feature selection\n",
        "In the below grid we will see the feature importance for the above model."
      ]
    },
    {
      "cell_type": "code",
      "metadata": {
        "colab": {
          "base_uri": "https://localhost:8080/",
          "height": 623
        },
        "id": "3NtUX5PGzFSq",
        "outputId": "284eb130-fa6a-4a60-ec10-29ee7e1588f7"
      },
      "source": [
        "# Feature selection\n",
        "\n",
        "def lgb_feat_importance(m, df):\n",
        "    return pd.DataFrame({'cols': df.columns, 'imp': m.feature_importances_}\n",
        "                       ).sort_values('imp', ascending = False)\n",
        "\n",
        "fi = lgb_feat_importance(sk_reg, x_train_sampled);\n",
        "print(fi[:10])\n",
        "\n",
        "def plot_fi(fi): return fi.plot('cols', 'imp', 'barh',\n",
        "                               figsize=(12,7), legend=False)\n",
        "plot_fi(fi[:30])\n",
        "plt.show()"
      ],
      "execution_count": null,
      "outputs": [
        {
          "name": "stdout",
          "output_type": "stream",
          "text": [
            "                   cols    imp\n",
            "0                  msno  38052\n",
            "1               song_id  11744\n",
            "32    count_song_played  11559\n",
            "7           artist_name   8968\n",
            "5           song_length   6199\n",
            "33  count_artist_played   6043\n",
            "8              composer   4973\n",
            "16      membership_days   4902\n",
            "22            song_year   3906\n",
            "19    registration_date   3275\n"
          ]
        },
        {
          "data": {
            "image/png": "[encoded data removed]",
            "text/plain": [
              "<Figure size 864x504 with 1 Axes>"
            ]
          },
          "metadata": {},
          "output_type": "display_data"
        }
      ]
    },
    {
      "cell_type": "markdown",
      "metadata": {
        "id": "2LZlFeE5zFSr"
      },
      "source": [
        "From the above graph, we can see that the most important feature for the above model was \"msno\", which means that the most important feature that the model depends on is the user who is listening to the song, followed by the number of times the song was played. "
      ]
    },
    {
      "cell_type": "markdown",
      "metadata": {
        "id": "U8lcqo9azFSr"
      },
      "source": [
        "### 5.5 Next, we do a grid search to get the best parameters with maximum accuracy on sampled data\n",
        "\n",
        "The below code would give us the best parameters with maximum accuracy on predicted variable."
      ]
    },
    {
      "cell_type": "code",
      "metadata": {
        "colab": {
          "base_uri": "https://localhost:8080/",
          "height": 35
        },
        "id": "05xZCqkqzFSs",
        "outputId": "874e2512-73df-4f98-a094-e6b1a595016a"
      },
      "source": [
        "# Pipeline and grid search\n",
        "pipe_dt = Pipeline([('clf', lgb.sklearn.LGBMClassifier())]) # Estimator: ML algorithm\n",
        "\n",
        "grid_params = dict(clf__objective=['binary'],\n",
        "                 clf__eval_metric=['binary_logloss'],\n",
        "                 clf__boosting_type=['gbdt'],\n",
        "                 clf__learning_rate=[0.3],\n",
        "                 clf__verbose=[0],\n",
        "                 clf__num_leaves=[300, 350, 250],\n",
        "                 clf__feature_fraction=[0.9],\n",
        "                 clf__max_bin=[256],\n",
        "                 clf__max_depth=[200, 150, 250],\n",
        "                 clf__num_rounds=[200])\n",
        "\n",
        "gs = GridSearchCV(estimator = pipe_dt,\n",
        "                 param_grid = grid_params,\n",
        "                 scoring='accuracy',\n",
        "                 cv=5\n",
        "                 )\n",
        "\n",
        "gs.fit(x_train_sampled, y_train_sampled)\n",
        "f\"{gs.score(x_test, y_test):.4f}\""
      ],
      "execution_count": 9,
      "outputs": [
        {
          "output_type": "execute_result",
          "data": {
            "application/vnd.google.colaboratory.intrinsic+json": {
              "type": "string"
            },
            "text/plain": [
              "'0.6866'"
            ]
          },
          "metadata": {},
          "execution_count": 9
        }
      ]
    },
    {
      "cell_type": "code",
      "metadata": {
        "colab": {
          "base_uri": "https://localhost:8080/"
        },
        "id": "-BpNqYSlzFSs",
        "outputId": "7e51a42c-51f2-458a-8543-ce4b7c738a77"
      },
      "source": [
        "# Best algorithm with best hyperparameters\n",
        "# (need to fit it to find specific model parameters)\n",
        "print(gs.best_estimator_)\n",
        "\n",
        "# Best model with specific model parameters\n",
        "gs.best_estimator_.get_params()['clf']"
      ],
      "execution_count": 14,
      "outputs": [
        {
          "output_type": "stream",
          "text": [
            "Pipeline(memory=None,\n",
            "         steps=[('clf',\n",
            "                 LGBMClassifier(boosting_type='gbdt', class_weight=None,\n",
            "                                colsample_bytree=1.0,\n",
            "                                eval_metric='binary_logloss',\n",
            "                                feature_fraction=0.9, importance_type='split',\n",
            "                                learning_rate=0.3, max_bin=256, max_depth=250,\n",
            "                                min_child_samples=20, min_child_weight=0.001,\n",
            "                                min_split_gain=0.0, n_estimators=100, n_jobs=-1,\n",
            "                                num_leaves=300, num_rounds=200,\n",
            "                                objective='binary', random_state=None,\n",
            "                                reg_alpha=0.0, reg_lambda=0.0, silent=True,\n",
            "                                subsample=1.0, subsample_for_bin=200000,\n",
            "                                subsample_freq=0, verbose=0))],\n",
            "         verbose=False)\n"
          ],
          "name": "stdout"
        },
        {
          "output_type": "execute_result",
          "data": {
            "text/plain": [
              "LGBMClassifier(boosting_type='gbdt', class_weight=None, colsample_bytree=1.0,\n",
              "               eval_metric='binary_logloss', feature_fraction=0.9,\n",
              "               importance_type='split', learning_rate=0.3, max_bin=256,\n",
              "               max_depth=250, min_child_samples=20, min_child_weight=0.001,\n",
              "               min_split_gain=0.0, n_estimators=100, n_jobs=-1, num_leaves=300,\n",
              "               num_rounds=200, objective='binary', random_state=None,\n",
              "               reg_alpha=0.0, reg_lambda=0.0, silent=True, subsample=1.0,\n",
              "               subsample_for_bin=200000, subsample_freq=0, verbose=0)"
            ]
          },
          "metadata": {},
          "execution_count": 14
        }
      ]
    },
    {
      "cell_type": "markdown",
      "metadata": {
        "id": "VE_vyJ2jzFSt"
      },
      "source": [
        "The best score that we get on the sampled data set is .685 with following best parameters: objective='binary', eval_metric='binary_logloss' boosting='gbdt' learning_rate=0.3 verbose=0 num_leaves=600 bagging_freq= 1 feature_fraction=0.9 max_bin=256 max_depth=300 num_rounds=200\n",
        "\n",
        "### 5.6 Fitting Best Model on all the Data\n",
        "Next, we fit the best model that we got from the grid search to all the data that we have. This should give us a better accuracy."
      ]
    },
    {
      "cell_type": "code",
      "metadata": {
        "id": "XpaeJIJtzFSt"
      },
      "source": [
        "# Fitting the best model on all the data\n",
        "Final_model = lgb.sklearn.LGBMClassifier(objective='binary',\n",
        "                                         eval_metric='binary_logloss',\n",
        "                                         boosting='gbdt',\n",
        "                                         learning_rate=0.3,\n",
        "                                         verbose=0,\n",
        "                                         num_leaves=300,\n",
        "                                         bagging_freq=1,\n",
        "                                         feature_fraction=0.9,\n",
        "                                         max_bin=256,\n",
        "                                         max_depth=300,\n",
        "                                         num_rounds=200\n",
        "                                         )"
      ],
      "execution_count": 15,
      "outputs": []
    },
    {
      "cell_type": "code",
      "metadata": {
        "id": "Nj_8c9fBzFSu",
        "colab": {
          "base_uri": "https://localhost:8080/"
        },
        "outputId": "c6281e72-2ead-424d-e3ae-ef6e70c67a90"
      },
      "source": [
        "# Validation accuracy\n",
        "Final_model.fit(x_train, y_train)\n",
        "predicted = Final_model.predict(x_val)\n",
        "accuracy = accuracy_score(y_val, predicted)\n",
        "print(f\"Mean accuracy score on validation: {accuracy:.3}\")"
      ],
      "execution_count": 16,
      "outputs": [
        {
          "output_type": "stream",
          "text": [
            "Mean accuracy score on validation: 0.739\n"
          ],
          "name": "stdout"
        }
      ]
    },
    {
      "cell_type": "markdown",
      "metadata": {
        "id": "aBP2fLYDxbze"
      },
      "source": [
        "We see that validation accuracy is 0.739 which is more than what we were getting on\n",
        "the sampled data. Next, let's check the test accuracy."
      ]
    },
    {
      "cell_type": "code",
      "metadata": {
        "id": "fFxJhCOZzFSu",
        "colab": {
          "base_uri": "https://localhost:8080/"
        },
        "outputId": "7ac092f6-5f9d-4bd7-cd13-cc160e390eb2"
      },
      "source": [
        "# Test accuracy\n",
        "predicted = Final_model.predict(x_test)\n",
        "accuracy = accuracy_score(y_test, predicted)\n",
        "print(f\"Mean accuracy score test: {accuracy:.3}\")"
      ],
      "execution_count": 17,
      "outputs": [
        {
          "output_type": "stream",
          "text": [
            "Mean accuracy score test: 0.739\n"
          ],
          "name": "stdout"
        }
      ]
    },
    {
      "cell_type": "markdown",
      "metadata": {
        "id": "qCQUDDB1zFSu"
      },
      "source": [
        "The test accuracy is pretty close to the validation accuracy of 0.742 which suggests that we had a good split of test and validation sets. Also, our accuracy has increased from 68.5% to 74.2% just by increasing the data."
      ]
    },
    {
      "cell_type": "markdown",
      "metadata": {
        "id": "ZOESOlU8zFSu"
      },
      "source": [
        "## 6. Evaluation Metric\n",
        "Let's create an evaluation metric to see the precision, recall and fscore of the best model."
      ]
    },
    {
      "cell_type": "code",
      "metadata": {
        "id": "LOR1h1CgzFSv",
        "colab": {
          "base_uri": "https://localhost:8080/"
        },
        "outputId": "de336054-0a65-4ee8-a913-73e3a990065a"
      },
      "source": [
        "from sklearn.metrics import precision_recall_fscore_support as score\n",
        "precision, recall, fscore, support = score(y_test, predicted)\n",
        "print('precision: {}'.format(precision))\n",
        "print('recall: {}'.format(recall))\n",
        "print('fscore: {}'.format(fscore))\n",
        "print('support: {}'.format(support))"
      ],
      "execution_count": 31,
      "outputs": [
        {
          "output_type": "stream",
          "text": [
            "precision: [0.73 0.74]\n",
            "recall: [0.74 0.74]\n",
            "fscore: [0.74 0.74]\n",
            "support: [731406 744078]\n"
          ],
          "name": "stdout"
        }
      ]
    },
    {
      "cell_type": "markdown",
      "metadata": {
        "id": "676o465XzFSv"
      },
      "source": [
        "Our precision and recalls are around 74% which is pretty good considering the amount of data that was available.\n",
        "\n",
        "### 6.1 Confusion Matrix\n",
        "The below code  would build a confusion matrix of the true and predicted labels.\n",
        "\n",
        "*   List item\n",
        "*   List item\n",
        "\n"
      ]
    },
    {
      "cell_type": "code",
      "metadata": {
        "id": "zeiEywvgzFSv",
        "colab": {
          "base_uri": "https://localhost:8080/",
          "height": 679
        },
        "outputId": "8480fd91-d083-4cee-a12c-e0493b87e2d6"
      },
      "source": [
        "import itertools\n",
        "from sklearn.metrics import confusion_matrix\n",
        "class_names = ['0','1']\n",
        "def plot_confusion_matrix(cm, classes,\n",
        "                          normalize=False,\n",
        "                          title='Confusion matrix',\n",
        "                          cmap=plt.cm.Blues):\n",
        "    \"\"\"\n",
        "    This function prints and plots the confusion matrix.\n",
        "    Normalization can be applied by setting `normalize=True`.\n",
        "    \"\"\"\n",
        "    if normalize:\n",
        "        cm = cm.astype('float') / cm.sum(axis=1)[:, np.newaxis]\n",
        "        print(\"Normalized confusion matrix\")\n",
        "    else:\n",
        "        print('Confusion matrix, without normalization')\n",
        "\n",
        "    print(cm)\n",
        "\n",
        "    plt.imshow(cm, interpolation='nearest', cmap=cmap)\n",
        "    plt.title(title)\n",
        "    plt.colorbar()\n",
        "    tick_marks = np.arange(2)\n",
        "    plt.xticks(tick_marks, classes, rotation=45)\n",
        "    plt.yticks(tick_marks, classes)\n",
        "\n",
        "    fmt = '.2f' if normalize else 'd'\n",
        "    thresh = cm.max() / 2.\n",
        "    for i, j in itertools.product(range(cm.shape[0]), range(cm.shape[1])):\n",
        "        plt.text(j, i, format(cm[i, j], fmt),\n",
        "                 horizontalalignment=\"center\",\n",
        "                 color=\"white\" if cm[i, j] > thresh else \"black\")\n",
        "\n",
        "    plt.ylabel('True label')\n",
        "    plt.xlabel('Predicted label')\n",
        "    plt.tight_layout()\n",
        "\n",
        "\n",
        "# Compute confusion matrix\n",
        "cnf_matrix = confusion_matrix(y_test, predicted)\n",
        "np.set_printoptions(precision=2)\n",
        "\n",
        "# Plot non-normalized confusion matrix\n",
        "plt.figure()\n",
        "plot_confusion_matrix(cnf_matrix, classes=class_names,\n",
        "                      title='Confusion matrix, without normalization')\n",
        "\n",
        "# Plot normalized confusion matrix\n",
        "plt.figure()\n",
        "plot_confusion_matrix(cnf_matrix, classes=class_names, normalize=True,\n",
        "                      title='Normalized confusion matrix')\n",
        "\n",
        "plt.show()"
      ],
      "execution_count": 30,
      "outputs": [
        {
          "output_type": "stream",
          "text": [
            "Confusion matrix, without normalization\n",
            "[[543707 187699]\n",
            " [197012 547066]]\n",
            "Normalized confusion matrix\n",
            "[[0.74 0.26]\n",
            " [0.26 0.74]]\n"
          ],
          "name": "stdout"
        },
        {
          "output_type": "display_data",
          "data": {
            "image/png": "[encoded data removed]",
            "text/plain": [
              "<Figure size 432x288 with 2 Axes>"
            ]
          },
          "metadata": {
            "needs_background": "light"
          }
        },
        {
          "output_type": "display_data",
          "data": {
            "image/png": "[encoded data removed]",
            "text/plain": [
              "<Figure size 432x288 with 2 Axes>"
            ]
          },
          "metadata": {
            "needs_background": "light"
          }
        }
      ]
    },
    {
      "cell_type": "markdown",
      "metadata": {
        "id": "PDfvgqwwzFSv"
      },
      "source": [
        "From the above confusion matrix we can see that we are predicting the true labels right 74% of the time."
      ]
    },
    {
      "cell_type": "code",
      "metadata": {
        "id": "AUDqq1GJACFE"
      },
      "source": [
        "# Predict probability for ROC curve\n",
        "predicted = Final_model.predict_proba(x_test)"
      ],
      "execution_count": 32,
      "outputs": []
    },
    {
      "cell_type": "markdown",
      "metadata": {
        "id": "Vj4SUMkiAMxh"
      },
      "source": [
        "### 6.2 ROC curve"
      ]
    },
    {
      "cell_type": "code",
      "metadata": {
        "colab": {
          "base_uri": "https://localhost:8080/",
          "height": 295
        },
        "id": "RP_r220MAT6m",
        "outputId": "1c99f1e2-5481-4f2d-d4e0-5e3655a869c7"
      },
      "source": [
        "from sklearn.metrics import roc_curve, auc\n",
        "import matplotlib.pyplot as plt\n",
        "\n",
        "false_positive_rate, true_positive_rate, thresholds = roc_curve(\n",
        "    y_test, [i[1]for i in predicted])\n",
        "roc_auc = auc(false_positive_rate, true_positive_rate)\n",
        "\n",
        "plt.title('Receiver Operating Characteristic')\n",
        "plt.plot(false_positive_rate, true_positive_rate,\n",
        "         'b',label='AUC = %0.2f'% roc_auc)\n",
        "plt.legend(loc='lower right')\n",
        "plt.plot([0,1],[0,1],'r--')\n",
        "plt.xlim([0,1])\n",
        "plt.ylim([0,1])\n",
        "plt.ylabel('True Positive Rate')\n",
        "plt.xlabel('False Positive Rate')\n",
        "plt.show()"
      ],
      "execution_count": 34,
      "outputs": [
        {
          "output_type": "display_data",
          "data": {
            "image/png": "[encoded data removed]",
            "text/plain": [
              "<Figure size 432x288 with 1 Axes>"
            ]
          },
          "metadata": {
            "needs_background": "light"
          }
        }
      ]
    },
    {
      "cell_type": "markdown",
      "metadata": {
        "id": "hhNr5QprBq6v"
      },
      "source": [
        "The AUC of the above curve is 0.82."
      ]
    },
    {
      "cell_type": "markdown",
      "metadata": {
        "id": "cnZwcJ4GBxV8"
      },
      "source": [
        "## 7. Summary\n",
        "In this notebook, we fit LightGBM to the WSDM dataset. And we got the accuracy of around 74%."
      ]
    },
    {
      "cell_type": "code",
      "metadata": {
        "id": "zvOIqF_5Cw9K"
      },
      "source": [
        ""
      ],
      "execution_count": null,
      "outputs": []
    }
  ]
}